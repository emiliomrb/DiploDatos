{
  "nbformat": 4,
  "nbformat_minor": 0,
  "metadata": {
    "colab": {
      "name": "MItigando_el_sesgo.ipynb",
      "provenance": [],
      "collapsed_sections": []
    },
    "kernelspec": {
      "name": "python3",
      "display_name": "Python 3"
    }
  },
  "cells": [
    {
      "cell_type": "code",
      "metadata": {
        "id": "i2KjeMbk1NjO",
        "colab": {
          "base_uri": "https://localhost:8080/",
          "height": 812
        },
        "outputId": "b7c17eec-9002-4019-87c4-a50d237cc726"
      },
      "source": [
        "!pip install responsibly"
      ],
      "execution_count": null,
      "outputs": [
        {
          "output_type": "stream",
          "text": [
            "Collecting responsibly\n",
            "\u001b[?25l  Downloading https://files.pythonhosted.org/packages/44/64/72211de680c21fe6cea67da182db965861603d311c67839ab39cc7226780/responsibly-0.1.2-py3-none-any.whl (28.2MB)\n",
            "\u001b[K     |████████████████████████████████| 28.2MB 150kB/s \n",
            "\u001b[?25hCollecting gensim>=3.7\n",
            "\u001b[?25l  Downloading https://files.pythonhosted.org/packages/2b/e0/fa6326251692056dc880a64eb22117e03269906ba55a6864864d24ec8b4e/gensim-3.8.3-cp36-cp36m-manylinux1_x86_64.whl (24.2MB)\n",
            "\u001b[K     |████████████████████████████████| 24.2MB 59.1MB/s \n",
            "\u001b[?25hRequirement already satisfied: numpy>=1.15 in /usr/local/lib/python3.6/dist-packages (from responsibly) (1.19.4)\n",
            "Requirement already satisfied: scikit-learn>=0.19 in /usr/local/lib/python3.6/dist-packages (from responsibly) (0.22.2.post1)\n",
            "Requirement already satisfied: six>=1.10 in /usr/local/lib/python3.6/dist-packages (from responsibly) (1.15.0)\n",
            "Requirement already satisfied: mlxtend<0.17,>=0.13 in /usr/local/lib/python3.6/dist-packages (from responsibly) (0.14.0)\n",
            "Requirement already satisfied: click>=6.0 in /usr/local/lib/python3.6/dist-packages (from responsibly) (7.1.2)\n",
            "Requirement already satisfied: scipy>=1.1 in /usr/local/lib/python3.6/dist-packages (from responsibly) (1.4.1)\n",
            "Requirement already satisfied: tqdm>=4.24 in /usr/local/lib/python3.6/dist-packages (from responsibly) (4.41.1)\n",
            "Collecting matplotlib<3,>=2.2\n",
            "\u001b[?25l  Downloading https://files.pythonhosted.org/packages/49/cc/94dd12083678ffbfee7cf5ac8bf341b0e6dac64c422851db094e532d1524/matplotlib-2.2.5-cp36-cp36m-manylinux1_x86_64.whl (12.8MB)\n",
            "\u001b[K     |████████████████████████████████| 12.8MB 22.9MB/s \n",
            "\u001b[?25hRequirement already satisfied: seaborn>=0.9 in /usr/local/lib/python3.6/dist-packages (from responsibly) (0.11.0)\n",
            "Requirement already satisfied: tabulate>=0.8 in /usr/local/lib/python3.6/dist-packages (from responsibly) (0.8.7)\n",
            "Requirement already satisfied: pandas>=0.23 in /usr/local/lib/python3.6/dist-packages (from responsibly) (1.1.5)\n",
            "Requirement already satisfied: smart-open>=1.8.1 in /usr/local/lib/python3.6/dist-packages (from gensim>=3.7->responsibly) (4.0.1)\n",
            "Requirement already satisfied: joblib>=0.11 in /usr/local/lib/python3.6/dist-packages (from scikit-learn>=0.19->responsibly) (1.0.0)\n",
            "Requirement already satisfied: setuptools in /usr/local/lib/python3.6/dist-packages (from mlxtend<0.17,>=0.13->responsibly) (51.0.0)\n",
            "Requirement already satisfied: cycler>=0.10 in /usr/local/lib/python3.6/dist-packages (from matplotlib<3,>=2.2->responsibly) (0.10.0)\n",
            "Requirement already satisfied: kiwisolver>=1.0.1 in /usr/local/lib/python3.6/dist-packages (from matplotlib<3,>=2.2->responsibly) (1.3.1)\n",
            "Requirement already satisfied: pytz in /usr/local/lib/python3.6/dist-packages (from matplotlib<3,>=2.2->responsibly) (2018.9)\n",
            "Requirement already satisfied: pyparsing!=2.0.4,!=2.1.2,!=2.1.6,>=2.0.1 in /usr/local/lib/python3.6/dist-packages (from matplotlib<3,>=2.2->responsibly) (2.4.7)\n",
            "Requirement already satisfied: python-dateutil>=2.1 in /usr/local/lib/python3.6/dist-packages (from matplotlib<3,>=2.2->responsibly) (2.8.1)\n",
            "\u001b[31mERROR: plotnine 0.6.0 has requirement matplotlib>=3.1.1, but you'll have matplotlib 2.2.5 which is incompatible.\u001b[0m\n",
            "\u001b[31mERROR: mizani 0.6.0 has requirement matplotlib>=3.1.1, but you'll have matplotlib 2.2.5 which is incompatible.\u001b[0m\n",
            "\u001b[31mERROR: albumentations 0.1.12 has requirement imgaug<0.2.7,>=0.2.5, but you'll have imgaug 0.2.9 which is incompatible.\u001b[0m\n",
            "Installing collected packages: gensim, matplotlib, responsibly\n",
            "  Found existing installation: gensim 3.6.0\n",
            "    Uninstalling gensim-3.6.0:\n",
            "      Successfully uninstalled gensim-3.6.0\n",
            "  Found existing installation: matplotlib 3.2.2\n",
            "    Uninstalling matplotlib-3.2.2:\n",
            "      Successfully uninstalled matplotlib-3.2.2\n",
            "Successfully installed gensim-3.8.3 matplotlib-2.2.5 responsibly-0.1.2\n"
          ],
          "name": "stdout"
        },
        {
          "output_type": "display_data",
          "data": {
            "application/vnd.colab-display-data+json": {
              "pip_warning": {
                "packages": [
                  "matplotlib",
                  "mpl_toolkits"
                ]
              }
            }
          },
          "metadata": {
            "tags": []
          }
        }
      ]
    },
    {
      "cell_type": "code",
      "metadata": {
        "id": "uWQL-SrePHaw"
      },
      "source": [
        "import io\n",
        "import warnings\n",
        "warnings.filterwarnings('ignore')\n",
        "\n",
        "import responsibly\n",
        "\n",
        "#import fasttext\n",
        "#import fasttext.util\n",
        "\n",
        "#from numpy.linalg import norm # normalize regarding a vector (word)"
      ],
      "execution_count": null,
      "outputs": []
    },
    {
      "cell_type": "code",
      "metadata": {
        "id": "-GSYW2aDp9qB"
      },
      "source": [
        "from gensim.models.keyedvectors import KeyedVectors\n",
        "\n",
        "\n",
        "wordvectors_file_vec = '/content/fasttext-sbwc.100k.vec'\n",
        "cantidad = 50000\n",
        "wordvectors = KeyedVectors.load_word2vec_format(wordvectors_file_vec, limit=cantidad)"
      ],
      "execution_count": null,
      "outputs": []
    },
    {
      "cell_type": "code",
      "metadata": {
        "id": "wh_3bhPCzI8P"
      },
      "source": [
        "# L2 (euclidean) normalized vectors (without a center!)\n",
        "wordvectors.init_sims(replace=True)"
      ],
      "execution_count": null,
      "outputs": []
    },
    {
      "cell_type": "code",
      "metadata": {
        "id": "mfgFrgThp92-",
        "colab": {
          "base_uri": "https://localhost:8080/"
        },
        "outputId": "419513c3-4395-48e9-a809-5fea3cf90d0f"
      },
      "source": [
        "# Creamos el centro en base a la dirección deseada\n",
        "gdirection = wordvectors['mujer'] - wordvectors['hombre']\n",
        "gdirection\n"
      ],
      "execution_count": null,
      "outputs": [
        {
          "output_type": "execute_result",
          "data": {
            "text/plain": [
              "array([-5.84656000e-03,  7.74329454e-02, -1.43896714e-02,  6.69480190e-02,\n",
              "        3.34946886e-02, -2.76196375e-02, -5.24447933e-02,  3.46867181e-02,\n",
              "       -1.37887076e-02, -3.72997299e-02, -2.52500717e-02,  5.13225943e-02,\n",
              "       -3.83549929e-03, -5.23223504e-02, -3.73840779e-02, -1.31343342e-02,\n",
              "       -1.34903654e-01, -8.08988214e-02,  3.00732218e-02, -5.04217930e-02,\n",
              "        7.39826784e-02, -2.48072557e-02, -4.55818176e-02, -5.33082969e-02,\n",
              "        3.38839591e-02,  7.70126283e-03, -4.15441841e-02,  2.42943466e-02,\n",
              "        2.46817656e-02,  1.74174625e-02,  3.38096023e-02,  4.50458638e-02,\n",
              "        2.19730735e-02,  3.71532980e-04, -7.66526014e-02, -3.76945697e-02,\n",
              "        9.31684449e-02,  3.09700482e-02, -5.76075912e-02,  9.70911384e-02,\n",
              "        4.64721359e-02, -9.80491042e-02,  2.69910917e-02, -7.24220425e-02,\n",
              "       -7.02564372e-03,  1.96690261e-02,  4.04934399e-02,  1.18677504e-02,\n",
              "        2.21216455e-02, -4.17231768e-03,  3.01209055e-02,  7.35590532e-02,\n",
              "        5.58096878e-02,  3.48476917e-02,  7.15247095e-02, -2.37082914e-02,\n",
              "        5.62616363e-02,  6.31062984e-02, -5.13574518e-02, -4.37652580e-02,\n",
              "       -6.62355032e-03,  5.37737720e-02,  3.46289575e-02,  1.52218968e-01,\n",
              "       -3.95008959e-02,  4.45847064e-02,  1.92132418e-03, -6.99347258e-03,\n",
              "        1.23974308e-01, -4.58074063e-02,  3.02856285e-02, -2.98416000e-02,\n",
              "        2.79074311e-02, -7.82718137e-03, -3.43845151e-02, -5.25299683e-02,\n",
              "       -5.57846092e-02, -2.79085748e-02, -3.04930862e-02, -3.84752452e-03,\n",
              "       -1.01295255e-01,  2.79459395e-02, -3.61966752e-02, -4.91898954e-02,\n",
              "       -1.00295916e-02, -5.72424233e-02,  5.66357188e-02, -5.55813313e-02,\n",
              "        1.63188018e-03,  6.86332360e-02, -2.56432667e-02,  2.14040801e-02,\n",
              "       -4.89725396e-02,  2.94649694e-03,  6.10454604e-02,  6.83283284e-02,\n",
              "       -2.30521746e-02,  1.67611800e-02,  2.55117863e-02, -6.69746548e-02,\n",
              "        6.52435645e-02, -6.85381070e-02, -9.64980796e-02,  7.17376694e-02,\n",
              "       -9.42431856e-03,  5.09049483e-02, -3.92626040e-02, -1.18032694e-02,\n",
              "        3.96905467e-03,  4.36111763e-02, -4.45951521e-02,  3.19081917e-03,\n",
              "        6.35967404e-03, -1.06647372e-01, -4.16084044e-02,  5.29784374e-02,\n",
              "        5.34395501e-02,  3.10078431e-02,  4.16357070e-03,  2.95814127e-02,\n",
              "       -3.86066474e-02,  8.22504014e-02, -3.38836052e-02, -5.34830317e-02,\n",
              "       -8.62766616e-03,  3.71137559e-02,  6.16910830e-02,  2.36082356e-04,\n",
              "       -6.33261949e-02, -5.98628074e-03,  4.79974896e-02, -9.14549679e-02,\n",
              "        5.47319390e-02, -4.66125011e-02, -1.05579436e-01, -1.68332830e-03,\n",
              "        1.02026001e-01, -1.24110281e-03,  3.39774787e-03, -5.41213676e-02,\n",
              "        5.75070642e-03, -1.06859356e-01,  2.99368054e-02, -9.99145117e-03,\n",
              "       -5.83685488e-02,  6.03720397e-02,  3.01611349e-02,  2.94027962e-02,\n",
              "        1.68696325e-02, -2.12024897e-02, -1.42286960e-02, -7.31174871e-02,\n",
              "       -5.48628345e-03,  1.86605155e-02, -1.14906386e-01, -5.59020266e-02,\n",
              "       -3.94037440e-02,  4.84062694e-02,  1.24940231e-01,  5.97061589e-03,\n",
              "       -6.87516108e-02, -3.14367488e-02,  1.38820782e-02, -3.86263430e-02,\n",
              "       -5.36757633e-02, -6.76876828e-02, -1.66495740e-02,  5.79572767e-02,\n",
              "       -2.69878209e-02,  2.45224461e-02, -9.13310796e-05, -1.31555703e-02,\n",
              "        1.90040667e-03,  1.10090233e-01, -5.79442903e-02,  6.79627061e-03,\n",
              "       -2.80134976e-02, -1.77981630e-02, -8.34663212e-02,  1.01662606e-01,\n",
              "       -2.24822089e-02, -2.87139118e-02,  7.23499283e-02,  3.38079520e-02,\n",
              "       -4.80449200e-02, -2.44424529e-02, -9.98662636e-02,  4.85321581e-02,\n",
              "       -6.86055794e-03,  3.14922631e-02,  6.50254935e-02,  9.06774998e-02,\n",
              "       -1.43944584e-02, -3.81064117e-02, -1.72027573e-02, -7.05448166e-02,\n",
              "        3.46325375e-02, -1.53830647e-03, -3.97444516e-03,  7.39191398e-02,\n",
              "       -4.00365517e-02, -5.01867495e-02,  2.61312462e-02, -8.01042765e-02,\n",
              "        5.29024303e-02,  5.58510050e-02, -5.83938509e-02,  4.25253920e-02,\n",
              "        2.26413142e-02, -2.94871256e-03, -5.09890653e-02, -4.89126220e-02,\n",
              "        1.07102264e-02,  3.85073386e-02,  5.95874377e-02,  8.98788944e-02,\n",
              "       -5.86581677e-02,  6.13017455e-02,  2.98350304e-02, -7.93679059e-03,\n",
              "        1.58076882e-02,  5.65584973e-02, -3.77532504e-02, -1.37063535e-02,\n",
              "        2.09676027e-02, -3.55876423e-02, -3.20922583e-02,  5.51292934e-02,\n",
              "        5.15378639e-02, -2.05783546e-03, -3.21445353e-02, -1.89225543e-02,\n",
              "       -4.45295349e-02, -2.59932801e-02, -8.63348097e-02,  8.57591629e-02,\n",
              "       -5.22470474e-03, -3.97845432e-02,  2.13806964e-02, -2.68230904e-02,\n",
              "        8.80066678e-03,  8.45701471e-02,  1.11172467e-01, -7.49002397e-03,\n",
              "       -7.74679407e-02,  6.98581114e-02,  7.58664757e-02, -2.91627012e-02,\n",
              "        2.80265808e-02, -3.24648665e-03, -2.37462670e-03, -9.70012173e-02,\n",
              "        3.18942294e-02,  1.79133043e-02,  4.31658234e-03, -5.09443134e-02,\n",
              "        7.51064112e-03,  4.90999930e-02,  1.25496507e-01,  1.26566976e-01,\n",
              "        8.96762311e-03, -7.47317970e-02, -6.41955435e-02,  1.21985935e-02,\n",
              "       -4.07240726e-02, -1.32404208e-01, -7.03382120e-02,  1.56912189e-02,\n",
              "        3.35060805e-03, -4.02766541e-02,  5.10075390e-02, -3.91343124e-02,\n",
              "       -7.34854490e-02,  4.50128578e-02,  5.54868914e-02, -8.04094300e-02,\n",
              "        3.93585637e-02, -2.94757020e-02, -1.08515665e-01, -3.30513939e-02,\n",
              "        9.85406525e-03, -5.75145259e-02, -3.49338576e-02,  6.98415097e-03,\n",
              "        3.04341167e-02, -3.24586555e-02, -4.85870540e-02,  1.24159530e-02,\n",
              "       -4.40805033e-02, -1.41998082e-02,  5.38817793e-02, -1.62482560e-02,\n",
              "        3.88745964e-03, -6.54285103e-02,  2.31878236e-02, -3.81652340e-02,\n",
              "       -2.42837202e-02, -3.90516594e-02, -3.78650278e-02,  5.07545061e-02],\n",
              "      dtype=float32)"
            ]
          },
          "metadata": {
            "tags": []
          },
          "execution_count": 29
        }
      ]
    },
    {
      "cell_type": "code",
      "metadata": {
        "id": "09B69J4B2bcZ"
      },
      "source": [
        "#normalizamos\n",
        "gender_direction =gdirection\n",
        "gender_direction /= norm(gdirection)"
      ],
      "execution_count": null,
      "outputs": []
    },
    {
      "cell_type": "code",
      "metadata": {
        "id": "5DzH7Q3Rp-AV",
        "colab": {
          "base_uri": "https://localhost:8080/"
        },
        "outputId": "03c013a1-df16-4233-ef9c-061b3731dd7c"
      },
      "source": [
        "# En este caso normalizamos en base a la palabra elegida\n",
        "from numpy.linalg import norm\n",
        "\n",
        "norm(wordvectors['gato'])"
      ],
      "execution_count": null,
      "outputs": [
        {
          "output_type": "execute_result",
          "data": {
            "text/plain": [
              "0.99999994"
            ]
          },
          "metadata": {
            "tags": []
          },
          "execution_count": 31
        }
      ]
    },
    {
      "cell_type": "code",
      "metadata": {
        "id": "9gNBzUyUxWnz"
      },
      "source": [
        "# asegurémonos que todos los vectores están normalizados\n",
        "\n",
        "from numpy.testing import assert_almost_equal\n",
        "\n",
        "length_vectors = norm(wordvectors.vectors, axis=1)\n",
        "\n",
        "assert_almost_equal(actual=length_vectors,\n",
        "                    desired=1,\n",
        "                    decimal=5)"
      ],
      "execution_count": null,
      "outputs": []
    },
    {
      "cell_type": "code",
      "metadata": {
        "colab": {
          "base_uri": "https://localhost:8080/",
          "height": 1000
        },
        "id": "LZvSXwd8ZUYa",
        "outputId": "db9d8312-df1b-41b5-a49f-816f3369ddf1"
      },
      "source": [
        "# Pipeline for gender direction, normalized (between man and women 1)\n",
        "gdirection_norm=norm(wordvectors['hombre']-wordvectors['mujer'])\n",
        "gdirection = (wordvectors['hombre']-wordvectors['mujer']) /gdirection_norm\n",
        "gdirection # 0.80922437 if not normalized\n",
        "display(gdirection, gdirection_norm, norm(gdirection))\n",
        "direction_vector_femine = [\n",
        "gdirection @ wordvectors['mujer'],\n",
        "gdirection @ wordvectors['luchadora'],\n",
        "gdirection @ wordvectors['gata'],\n",
        "gdirection @ wordvectors['mujer'],\n",
        "gdirection @ wordvectors['abogada'] ]\n",
        "direction_vector_masculine = [\n",
        "gdirection @ wordvectors['hombre'],\n",
        "gdirection @ wordvectors['luchador'],\n",
        "gdirection @ wordvectors['gato'],\n",
        "gdirection @ wordvectors['abogado'] ]\n",
        "direction_vector_neutral = [\n",
        "gdirection @ (wordvectors['hombre']+wordvectors['mujer']), # Oficially zero\n",
        "gdirection @ wordvectors['taxista'],\n",
        "gdirection @ wordvectors['economista']\n",
        "]\n",
        "df={}\n",
        "df['fem']= direction_vector_femine\n",
        "df['masc']=direction_vector_masculine\n",
        "df['neutral']=direction_vector_neutral\n",
        "df"
      ],
      "execution_count": 184,
      "outputs": [
        {
          "output_type": "display_data",
          "data": {
            "text/plain": [
              "array([ 6.49928581e-03, -8.60778317e-02,  1.59961823e-02, -7.44223297e-02,\n",
              "       -3.72341424e-02,  3.07031889e-02,  5.82999103e-02, -3.85592692e-02,\n",
              "        1.53281176e-02,  4.14640009e-02,  2.80690752e-02, -5.70524298e-02,\n",
              "        4.26370325e-03,  5.81637956e-02,  4.15577590e-02,  1.46006942e-02,\n",
              "        1.49964780e-01,  8.99306536e-02, -3.34307030e-02,  5.60510568e-02,\n",
              "       -8.22423697e-02,  2.75768191e-02,  5.06707281e-02,  5.92598170e-02,\n",
              "       -3.76668796e-02, -8.56107473e-03,  4.61823232e-02, -2.70066503e-02,\n",
              "       -2.74373200e-02, -1.93620082e-02, -3.75842191e-02, -5.00749350e-02,\n",
              "       -2.44262218e-02, -4.13012720e-04,  8.52103606e-02,  4.19029221e-02,\n",
              "       -1.03570089e-01, -3.44276540e-02,  6.40391111e-02, -1.07930735e-01,\n",
              "       -5.16604483e-02,  1.08995639e-01, -3.00044771e-02,  8.05074871e-02,\n",
              "        7.81001151e-03, -2.18649432e-02, -4.50142659e-02, -1.31927105e-02,\n",
              "       -2.45913733e-02,  4.63812100e-03, -3.34837027e-02, -8.17714483e-02,\n",
              "       -6.20404780e-02, -3.87382060e-02, -7.95099735e-02,  2.63551585e-02,\n",
              "       -6.25428930e-02, -7.01517165e-02,  5.70911765e-02,  4.86513563e-02,\n",
              "        7.36302836e-03, -5.97772673e-02, -3.84950526e-02, -1.69213220e-01,\n",
              "        4.39109169e-02, -4.95622866e-02, -2.13582767e-03,  7.77425198e-03,\n",
              "       -1.37815222e-01,  5.09214960e-02, -3.36668231e-02,  3.31732146e-02,\n",
              "       -3.10231205e-02,  8.70103016e-03,  3.82233188e-02,  5.83945923e-02,\n",
              "        6.20125979e-02,  3.10243834e-02,  3.38974372e-02,  4.27705888e-03,\n",
              "        1.12604216e-01, -3.10659148e-02,  4.02377918e-02,  5.46816252e-02,\n",
              "        1.11493375e-02,  6.36331663e-02, -6.29587173e-02,  6.17866218e-02,\n",
              "       -1.81406888e-03, -7.62956962e-02,  2.85061765e-02, -2.37936974e-02,\n",
              "        5.44400066e-02, -3.27545498e-03, -6.78607896e-02, -7.59567469e-02,\n",
              "        2.56258026e-02, -1.86324548e-02, -2.83600017e-02,  7.44519457e-02,\n",
              "       -7.25275800e-02,  7.61899352e-02,  1.07271455e-01, -7.97467083e-02,\n",
              "        1.04764802e-02, -5.65881543e-02,  4.36460190e-02,  1.31210350e-02,\n",
              "       -4.41216957e-03, -4.84800786e-02,  4.95739058e-02, -3.54704889e-03,\n",
              "       -7.06969807e-03,  1.18553869e-01,  4.62537073e-02, -5.88931255e-02,\n",
              "       -5.94057404e-02, -3.44696641e-02, -4.62841429e-03, -3.28839906e-02,\n",
              "        4.29168306e-02, -9.14331153e-02,  3.76664922e-02,  5.94540685e-02,\n",
              "        9.59088840e-03, -4.12572622e-02, -6.85784817e-02, -2.62438873e-04,\n",
              "        7.03961402e-02,  6.65461784e-03, -5.33560887e-02,  1.01665318e-01,\n",
              "       -6.08424023e-02,  5.18164895e-02,  1.17366686e-01,  1.87125674e-03,\n",
              "       -1.13416538e-01,  1.37965963e-03, -3.77707579e-03,  6.01636618e-02,\n",
              "       -6.39273273e-03,  1.18789501e-01, -3.32790613e-02,  1.11069335e-02,\n",
              "        6.48850203e-02, -6.71121851e-02, -3.35284323e-02, -3.26854214e-02,\n",
              "       -1.87530201e-02,  2.35696118e-02,  1.58172380e-02,  8.12805817e-02,\n",
              "        6.09878683e-03, -2.07438320e-02,  1.27734929e-01,  6.21431209e-02,\n",
              "        4.38029133e-02, -5.38105108e-02, -1.38889000e-01, -6.63720025e-03,\n",
              "        7.64272809e-02,  3.49464640e-02, -1.54319191e-02,  4.29387204e-02,\n",
              "        5.96683174e-02,  7.52445608e-02,  1.85084064e-02, -6.44278228e-02,\n",
              "        3.00008412e-02, -2.72602178e-02,  1.01529666e-04,  1.46243032e-02,\n",
              "       -2.11257488e-03, -1.22381084e-01,  6.44133911e-02, -7.55504612e-03,\n",
              "        3.11410241e-02,  1.97852142e-02,  9.27847922e-02, -1.13012582e-01,\n",
              "        2.49921959e-02,  3.19196358e-02, -8.04273337e-02, -3.75823975e-02,\n",
              "        5.34088202e-02,  2.71712877e-02,  1.11015677e-01, -5.39504588e-02,\n",
              "        7.62649812e-03, -3.50081697e-02, -7.22851604e-02, -1.00801058e-01,\n",
              "        1.60015095e-02,  4.23607416e-02,  1.91233233e-02,  7.84206837e-02,\n",
              "       -3.84990349e-02,  1.71004003e-03,  4.41815751e-03, -8.21717232e-02,\n",
              "        4.45063785e-02,  5.57897650e-02, -2.90486366e-02,  8.90474021e-02,\n",
              "       -5.88086471e-02, -6.20864071e-02,  6.49131387e-02, -4.72730733e-02,\n",
              "       -2.51690708e-02,  3.27791600e-03,  5.66816628e-02,  5.43734021e-02,\n",
              "       -1.19059505e-02, -4.28064279e-02, -6.62399903e-02, -9.99132916e-02,\n",
              "        6.52069673e-02, -6.81456923e-02, -3.31659168e-02,  8.82287696e-03,\n",
              "       -1.75725147e-02, -6.28728792e-02,  4.19681557e-02,  1.52365770e-02,\n",
              "       -2.33085006e-02,  3.95607688e-02,  3.56751382e-02, -6.12841249e-02,\n",
              "       -5.72917275e-02,  2.28757714e-03,  3.57332565e-02,  2.10351329e-02,\n",
              "        4.95009720e-02,  2.88952552e-02,  9.59735215e-02, -9.53335986e-02,\n",
              "        5.80801675e-03,  4.42262217e-02, -2.37677079e-02,  2.98177134e-02,\n",
              "       -9.78320744e-03, -9.40118581e-02, -1.23584151e-01,  8.32624454e-03,\n",
              "        8.61167386e-02, -7.76573196e-02, -8.43364671e-02,  3.24185342e-02,\n",
              "       -3.11555732e-02,  3.60893668e-03,  2.63972976e-03,  1.07830770e-01,\n",
              "       -3.54550183e-02, -1.99132115e-02, -4.79849940e-03,  5.66319115e-02,\n",
              "       -8.34915414e-03, -5.45816869e-02, -1.39507383e-01, -1.40697345e-01,\n",
              "       -9.96879116e-03,  8.30751210e-02,  7.13625476e-02, -1.35604823e-02,\n",
              "        4.52706441e-02,  1.47186279e-01,  7.81910121e-02, -1.74430385e-02,\n",
              "       -3.72468564e-03,  4.47732806e-02, -5.67022040e-02,  4.35033962e-02,\n",
              "        8.16896185e-02, -5.00382520e-02, -6.16816469e-02,  8.93866196e-02,\n",
              "       -4.37526889e-02,  3.27664725e-02,  1.20630726e-01,  3.67413722e-02,\n",
              "       -1.09542077e-02,  6.39356449e-02,  3.88340019e-02, -7.76388636e-03,\n",
              "       -3.38318944e-02,  3.60824466e-02,  5.40114753e-02, -1.38021111e-02,\n",
              "        4.90018018e-02,  1.57851260e-02, -5.98973259e-02,  1.80622693e-02,\n",
              "       -4.32148529e-03,  7.27331713e-02, -2.57765874e-02,  4.24261242e-02,\n",
              "        2.69948374e-02,  4.34115231e-02,  4.20924090e-02, -5.64209111e-02],\n",
              "      dtype=float32)"
            ]
          },
          "metadata": {
            "tags": []
          }
        },
        {
          "output_type": "display_data",
          "data": {
            "text/plain": [
              "0.89956903"
            ]
          },
          "metadata": {
            "tags": []
          }
        },
        {
          "output_type": "display_data",
          "data": {
            "text/plain": [
              "0.99999994"
            ]
          },
          "metadata": {
            "tags": []
          }
        },
        {
          "output_type": "execute_result",
          "data": {
            "text/plain": [
              "{'fem': [-0.4497844, -0.101356246, 0.052882113, -0.4497844, -0.17852865],\n",
              " 'masc': [0.4497846, 0.23832466, 0.24687268, 0.08765198],\n",
              " 'neutral': [2.0037987e-07, 0.18955265, 0.05620554]}"
            ]
          },
          "metadata": {
            "tags": []
          },
          "execution_count": 184
        }
      ]
    },
    {
      "cell_type": "code",
      "metadata": {
        "id": "Sv4QaaTIFont"
      },
      "source": [
        "import numpy as np\n",
        "def cosine_similarity(vec1, vec2):\n",
        "    len1 = np.linalg.norm(vec1)\n",
        "    len2 = np.linalg.norm(vec2)\n",
        "    dot_product = np.dot(vec1, vec2)\n",
        "    return dot_product / (len1 * len2)"
      ],
      "execution_count": null,
      "outputs": []
    },
    {
      "cell_type": "code",
      "metadata": {
        "id": "kbqC9C2iFqil",
        "colab": {
          "base_uri": "https://localhost:8080/"
        },
        "outputId": "f0b17148-dd58-455a-8095-886f3b1951db"
      },
      "source": [
        "cosine_similarity(wordvectors['dirigente'], wordvectors['mujer'])"
      ],
      "execution_count": null,
      "outputs": [
        {
          "output_type": "execute_result",
          "data": {
            "text/plain": [
              "0.16438076"
            ]
          },
          "metadata": {
            "tags": []
          },
          "execution_count": 39
        }
      ]
    },
    {
      "cell_type": "code",
      "metadata": {
        "id": "vyl9Z1NSF-i3",
        "colab": {
          "base_uri": "https://localhost:8080/"
        },
        "outputId": "15e17d46-8be0-482d-94d4-283f64c15810"
      },
      "source": [
        "wordvectors['dirigente'] @ wordvectors['mujer']"
      ],
      "execution_count": null,
      "outputs": [
        {
          "output_type": "execute_result",
          "data": {
            "text/plain": [
              "0.16438074"
            ]
          },
          "metadata": {
            "tags": []
          },
          "execution_count": 40
        }
      ]
    },
    {
      "cell_type": "code",
      "metadata": {
        "colab": {
          "base_uri": "https://localhost:8080/"
        },
        "id": "Cie8TBfxQhCC",
        "outputId": "1b298a24-1f8b-471a-dc3e-defb61bc6b2b"
      },
      "source": [
        "wordvectors['dirigente'] @ wordvectors['hombre']"
      ],
      "execution_count": 166,
      "outputs": [
        {
          "output_type": "execute_result",
          "data": {
            "text/plain": [
              "0.31507134"
            ]
          },
          "metadata": {
            "tags": []
          },
          "execution_count": 166
        }
      ]
    },
    {
      "cell_type": "markdown",
      "metadata": {
        "id": "Hvi3UDPtDwRw"
      },
      "source": [
        "## Diagnóstico de sesgo de género"
      ]
    },
    {
      "cell_type": "code",
      "metadata": {
        "id": "Xef-mtxC9Eb6",
        "colab": {
          "base_uri": "https://localhost:8080/"
        },
        "outputId": "c8135739-12fe-46dc-d70e-af7d57de42ec"
      },
      "source": [
        "wordvectors.most_similar(positive=['medico', 'hombre'],negative=['él'])\n"
      ],
      "execution_count": null,
      "outputs": [
        {
          "output_type": "execute_result",
          "data": {
            "text/plain": [
              "[('médico', 0.5129855871200562),\n",
              " ('medica', 0.4775370657444),\n",
              " ('médica', 0.4521704912185669),\n",
              " ('indigente', 0.44227153062820435),\n",
              " ('cirujano', 0.44039732217788696),\n",
              " ('ginecólogo', 0.44004788994789124),\n",
              " ('enfermero', 0.4381885826587677),\n",
              " ('paciente', 0.42837029695510864),\n",
              " ('clínica', 0.4262891411781311),\n",
              " ('paramédico', 0.42429089546203613)]"
            ]
          },
          "metadata": {
            "tags": []
          },
          "execution_count": 42
        }
      ]
    },
    {
      "cell_type": "code",
      "metadata": {
        "id": "UiRpRpjiECQL",
        "colab": {
          "base_uri": "https://localhost:8080/"
        },
        "outputId": "cb9541df-5a4a-4133-f401-f18ea1e6abe4"
      },
      "source": [
        "wordvectors.most_similar(positive=['carpintería', 'él'],negative=['ella'])\n"
      ],
      "execution_count": null,
      "outputs": [
        {
          "output_type": "execute_result",
          "data": {
            "text/plain": [
              "[('albañilería', 0.6682113409042358),\n",
              " ('herrería', 0.6483407020568848),\n",
              " ('cantería', 0.5699968338012695),\n",
              " ('muebles', 0.5180044174194336),\n",
              " ('carpintero', 0.5170474052429199),\n",
              " ('albañil', 0.5152691602706909),\n",
              " ('fundición', 0.5136929750442505),\n",
              " ('carpinteros', 0.5130808353424072),\n",
              " ('panadería', 0.5129778981208801),\n",
              " ('ferretería', 0.5049254298210144)]"
            ]
          },
          "metadata": {
            "tags": []
          },
          "execution_count": 43
        }
      ]
    },
    {
      "cell_type": "code",
      "metadata": {
        "id": "6UZdFk67ESfc",
        "colab": {
          "base_uri": "https://localhost:8080/"
        },
        "outputId": "7a0e23c3-bdbf-46a7-ddb8-ec913093b480"
      },
      "source": [
        "wordvectors.most_similar(positive=['carpintería', 'ella'],negative=['él'])\n"
      ],
      "execution_count": null,
      "outputs": [
        {
          "output_type": "execute_result",
          "data": {
            "text/plain": [
              "[('herrería', 0.687015175819397),\n",
              " ('albañilería', 0.682686448097229),\n",
              " ('cantería', 0.6189953088760376),\n",
              " ('costura', 0.5994037389755249),\n",
              " ('madera', 0.5699216723442078),\n",
              " ('alfarería', 0.5670095682144165),\n",
              " ('peluquería', 0.5617238283157349),\n",
              " ('tapicería', 0.5588425397872925),\n",
              " ('panadería', 0.5554421544075012),\n",
              " ('artesanía', 0.54728102684021)]"
            ]
          },
          "metadata": {
            "tags": []
          },
          "execution_count": 44
        }
      ]
    },
    {
      "cell_type": "code",
      "metadata": {
        "id": "5Rs8OjxgEdRc",
        "colab": {
          "base_uri": "https://localhost:8080/"
        },
        "outputId": "ccbeb0f0-7bdb-420c-8a73-82b71029107d"
      },
      "source": [
        "wordvectors.most_similar(positive=['carpintero', 'él'],negative=['ella'])\n"
      ],
      "execution_count": null,
      "outputs": [
        {
          "output_type": "execute_result",
          "data": {
            "text/plain": [
              "[('carpinteros', 0.6591194272041321),\n",
              " ('albañil', 0.6045953035354614),\n",
              " ('pescador', 0.5243479609489441),\n",
              " ('perico', 0.5108636617660522),\n",
              " ('tejedor', 0.5063521862030029),\n",
              " ('gavilán', 0.5057181119918823),\n",
              " ('constructor', 0.5012984275817871),\n",
              " ('amigo', 0.5007154941558838),\n",
              " ('artesano', 0.49700891971588135),\n",
              " ('pájaro', 0.48895367980003357)]"
            ]
          },
          "metadata": {
            "tags": []
          },
          "execution_count": 45
        }
      ]
    },
    {
      "cell_type": "code",
      "metadata": {
        "id": "PjWjH1PiMtQ8",
        "colab": {
          "base_uri": "https://localhost:8080/"
        },
        "outputId": "5788d185-7d91-4359-aa29-aa92bb284535"
      },
      "source": [
        "wordvectors.most_similar(positive=['carpintero', 'ella'],negative=['él'])\n"
      ],
      "execution_count": null,
      "outputs": [
        {
          "output_type": "execute_result",
          "data": {
            "text/plain": [
              "[('carpinteros', 0.6715471744537354),\n",
              " ('albañil', 0.5610324144363403),\n",
              " ('cocinera', 0.5546947121620178),\n",
              " ('pescador', 0.5394402146339417),\n",
              " ('golondrina', 0.5374129414558411),\n",
              " ('pájaro', 0.5061110854148865),\n",
              " ('carpintería', 0.5000944137573242),\n",
              " ('criada', 0.49921005964279175),\n",
              " ('urraca', 0.4912218749523163),\n",
              " ('sirvienta', 0.49031728506088257)]"
            ]
          },
          "metadata": {
            "tags": []
          },
          "execution_count": 46
        }
      ]
    },
    {
      "cell_type": "code",
      "metadata": {
        "colab": {
          "base_uri": "https://localhost:8080/"
        },
        "id": "nXAkAi1cQuNb",
        "outputId": "58d67645-3d50-48f7-b9b0-d8195a76d855"
      },
      "source": [
        "wordvectors.most_similar(positive=['dirigente', 'hombre'],negative=['mujer'])\n"
      ],
      "execution_count": 170,
      "outputs": [
        {
          "output_type": "execute_result",
          "data": {
            "text/plain": [
              "[('líder', 0.6439098119735718),\n",
              " ('carismático', 0.542842447757721),\n",
              " ('militante', 0.53902268409729),\n",
              " ('simpatizante', 0.5311943888664246),\n",
              " ('ideólogo', 0.5171741247177124),\n",
              " ('veterano', 0.5089927911758423),\n",
              " ('dirigencia', 0.4973352551460266),\n",
              " ('sindicalista', 0.4910968244075775),\n",
              " ('empresario', 0.4763525724411011),\n",
              " ('seguidor', 0.4746392071247101)]"
            ]
          },
          "metadata": {
            "tags": []
          },
          "execution_count": 170
        }
      ]
    },
    {
      "cell_type": "code",
      "metadata": {
        "colab": {
          "base_uri": "https://localhost:8080/"
        },
        "id": "3l8Q_95HRCUH",
        "outputId": "cb4c34dd-3384-4190-bb37-ed89fb7729ae"
      },
      "source": [
        "wordvectors.most_similar(positive=['dirigente', 'mujer'],negative=['hombre'])\n"
      ],
      "execution_count": 171,
      "outputs": [
        {
          "output_type": "execute_result",
          "data": {
            "text/plain": [
              "[('coordinadora', 0.5368133187294006),\n",
              " ('diputada', 0.5227832794189453),\n",
              " ('dirigencia', 0.5187094807624817),\n",
              " ('tesorera', 0.5174612402915955),\n",
              " ('secretaria', 0.5099249482154846),\n",
              " ('dirigentes', 0.4934179186820984),\n",
              " ('empresaria', 0.48275068402290344),\n",
              " ('presidenta', 0.4817776083946228),\n",
              " ('senadora', 0.47393062710762024),\n",
              " ('regidora', 0.473734974861145)]"
            ]
          },
          "metadata": {
            "tags": []
          },
          "execution_count": 171
        }
      ]
    },
    {
      "cell_type": "code",
      "metadata": {
        "id": "CpW6OUsjO-WM"
      },
      "source": [
        "profesiones_neutras = ['docente',\n",
        "'estudiante',\n",
        "'guardia',\n",
        "'custodia',\n",
        "'chef',\n",
        "'militante',\n",
        "'cantante',\n",
        "'pianista',\n",
        "'dentista',\n",
        "'violinista',\n",
        "'deportista',\n",
        "'estadista',\n",
        "'economista',\n",
        "'artista',\n",
        "'vidente',\n",
        "'agente',\n",
        "'accionista',\n",
        "'militar',\n",
        "'policía',\n",
        "'espía',\n",
        "'líder',\n",
        "'analista',\n",
        "'asistente',\n",
        "'auxiliar',\n",
        "'almirante',\n",
        "'chofer',\n",
        "'albañil',\n",
        "'representante',\n",
        "'contratista',\n",
        "'taxista',\n",
        "'recepcionista',\n",
        "'terapeuta',\n",
        "'pediatra',\n",
        "'psiquiatra',\n",
        "'periodista',\n",
        "'testigo',\n",
        "'víctima',\n",
        "'atleta',\n",
        "'cineasta',\n",
        "'colega',\n",
        "'corresponsal',\n",
        "'futbolista',\n",
        "'astronauta',\n",
        "'modelo',\n",
        "'piloto',\n",
        "'tenista',\n",
        "'cónsul',\n",
        "'capataz',\n",
        "'portavoz',\n",
        "'guía',\n",
        "'electricista',\n",
        "]"
      ],
      "execution_count": 173,
      "outputs": []
    },
    {
      "cell_type": "code",
      "metadata": {
        "id": "3Fmbl5kjYZ-Q",
        "colab": {
          "base_uri": "https://localhost:8080/"
        },
        "outputId": "6c5ae3b0-fe52-46e3-cee6-45f8d3a07b62"
      },
      "source": [
        "profesiones_neutras = sorted(profesiones_neutras, key=str.lower)\n",
        "\n",
        "\n",
        "profesiones_neutras"
      ],
      "execution_count": 174,
      "outputs": [
        {
          "output_type": "execute_result",
          "data": {
            "text/plain": [
              "['accionista',\n",
              " 'agente',\n",
              " 'albañil',\n",
              " 'almirante',\n",
              " 'analista',\n",
              " 'artista',\n",
              " 'asistente',\n",
              " 'astronauta',\n",
              " 'atleta',\n",
              " 'auxiliar',\n",
              " 'cantante',\n",
              " 'capataz',\n",
              " 'chef',\n",
              " 'chofer',\n",
              " 'cineasta',\n",
              " 'colega',\n",
              " 'contratista',\n",
              " 'corresponsal',\n",
              " 'custodia',\n",
              " 'cónsul',\n",
              " 'dentista',\n",
              " 'deportista',\n",
              " 'docente',\n",
              " 'economista',\n",
              " 'electricista',\n",
              " 'espía',\n",
              " 'estadista',\n",
              " 'estudiante',\n",
              " 'futbolista',\n",
              " 'guardia',\n",
              " 'guía',\n",
              " 'líder',\n",
              " 'militante',\n",
              " 'militar',\n",
              " 'modelo',\n",
              " 'pediatra',\n",
              " 'periodista',\n",
              " 'pianista',\n",
              " 'piloto',\n",
              " 'policía',\n",
              " 'portavoz',\n",
              " 'psiquiatra',\n",
              " 'recepcionista',\n",
              " 'representante',\n",
              " 'taxista',\n",
              " 'tenista',\n",
              " 'terapeuta',\n",
              " 'testigo',\n",
              " 'vidente',\n",
              " 'violinista',\n",
              " 'víctima']"
            ]
          },
          "metadata": {
            "tags": []
          },
          "execution_count": 174
        }
      ]
    },
    {
      "cell_type": "code",
      "metadata": {
        "id": "qQCyk0QdZhtM",
        "colab": {
          "base_uri": "https://localhost:8080/"
        },
        "outputId": "5c6cf5dd-7b4f-4710-efdc-802fb0b20af1"
      },
      "source": [
        "print (len(profesiones_neutras))"
      ],
      "execution_count": 175,
      "outputs": [
        {
          "output_type": "stream",
          "text": [
            "51\n"
          ],
          "name": "stdout"
        }
      ]
    },
    {
      "cell_type": "code",
      "metadata": {
        "id": "ktauTUFLOfrg",
        "colab": {
          "base_uri": "https://localhost:8080/"
        },
        "outputId": "9b2f9756-7d4e-4321-926b-4d7a94f878e7"
      },
      "source": [
        "#Medicion directa del sesgo\n",
        "\n",
        "\n",
        "neutral_profession_projections = [wordvectors[word] @ gdirection\n",
        "                                  for word in profesiones_neutras]\n",
        "\n",
        "abs_neutral_profession_projections = [abs(proj) for proj in neutral_profession_projections]\n",
        "\n",
        "sum(abs_neutral_profession_projections) / len(abs_neutral_profession_projections)"
      ],
      "execution_count": 176,
      "outputs": [
        {
          "output_type": "execute_result",
          "data": {
            "text/plain": [
              "0.08520146970655404"
            ]
          },
          "metadata": {
            "tags": []
          },
          "execution_count": 176
        }
      ]
    },
    {
      "cell_type": "code",
      "metadata": {
        "id": "bGQ1TFyIy9ZN"
      },
      "source": [
        "import matplotlib.pyplot as plt\n",
        "import seaborn as sns"
      ],
      "execution_count": 177,
      "outputs": []
    },
    {
      "cell_type": "code",
      "metadata": {
        "id": "jCekgonUhpXr"
      },
      "source": [
        "#funcion helper\n",
        "import pandas as pd\n",
        "def take_two_sides_extreme_sorted(df, n_extreme,\n",
        "                                  part_column=None,\n",
        "                                  head_value='',\n",
        "                                  tail_value=''):\n",
        "    head_df = df.head(n_extreme)[:]\n",
        "    tail_df = df.tail(n_extreme)[:]\n",
        "\n",
        "    if part_column is not None:\n",
        "        head_df[part_column] = head_value\n",
        "        tail_df[part_column] = tail_value\n",
        "\n",
        "    return (pd.concat([head_df, tail_df])\n",
        "            .drop_duplicates()\n",
        "            .reset_index(drop=True))\n"
      ],
      "execution_count": 178,
      "outputs": []
    },
    {
      "cell_type": "code",
      "metadata": {
        "id": "UFPoJ56qelME"
      },
      "source": [
        "#Funcion para plotear proyecciones\n",
        "def plot_projection_scores( words, n_extreme=10,\n",
        "                               ax=None, axis_projection_step=None):\n",
        "        \"\"\"Plot the projection scalar of words on the direction.\n",
        "\n",
        "        :param list words: The words tor project\n",
        "        :param int or None n_extreme: The number of extreme words to show\n",
        "        :return: The ax object of the plot\n",
        "        \"\"\"\n",
        "\n",
        "        #self._is_direction_identified()\n",
        "\n",
        "        projections_df = pd.DataFrame({'projection':[wordvectors[word] @ gdirection\n",
        "                                  for word in words],\n",
        "                                  'word':words})\n",
        "        projections_df['projection'] = projections_df['projection'].round(2)\n",
        "        projections_df= projections_df.sort_values(by='projection',ascending=False)\n",
        "\n",
        "       # if n_extreme is not None:\n",
        "        #    projections_df = take_two_sides_extreme_sorted(projections_df,\n",
        "         #                                                  n_extreme=n_extreme)\n",
        "\n",
        "        if ax is None:\n",
        "            _, ax = plt.subplots(1)\n",
        "\n",
        "        if axis_projection_step is None:\n",
        "            axis_projection_step = 0.1\n",
        "\n",
        "        cmap = plt.get_cmap('RdBu')\n",
        "        projections_df['color'] = ((projections_df['projection'] + 0.5)\n",
        "                                   .apply(cmap))\n",
        "\n",
        "        most_extream_projection = np.round(\n",
        "            projections_df['projection']\n",
        "            .abs()\n",
        "            .max(),\n",
        "            decimals=1)\n",
        "\n",
        "        sns.barplot(x='projection', y='word', data=projections_df,\n",
        "                    palette=projections_df['color'])\n",
        "\n",
        "        plt.xticks(np.arange(-most_extream_projection,\n",
        "                             most_extream_projection + axis_projection_step,\n",
        "                             axis_projection_step))\n",
        "        plt.title('← {} {} {} →'.format('él',\n",
        "                                        ' ' * 20,\n",
        "                                        'ella'))\n",
        "\n",
        "        plt.xlabel('Direction Projection')\n",
        "        plt.ylabel('Words')\n",
        "\n",
        "        return ax\n"
      ],
      "execution_count": 179,
      "outputs": []
    },
    {
      "cell_type": "code",
      "metadata": {
        "id": "d3evcMVFgG4r",
        "colab": {
          "base_uri": "https://localhost:8080/",
          "height": 639
        },
        "outputId": "b1686871-66b5-451b-aa16-7bec5ac826e2"
      },
      "source": [
        "\n",
        "f, ax = plt.subplots(1, figsize=(20, 10))\n",
        "plot_projection_scores(profesiones_neutras,n_extreme=51, ax= ax)\n"
      ],
      "execution_count": 180,
      "outputs": [
        {
          "output_type": "execute_result",
          "data": {
            "text/plain": [
              "<matplotlib.axes._subplots.AxesSubplot at 0x7fb1c1a98898>"
            ]
          },
          "metadata": {
            "tags": []
          },
          "execution_count": 180
        },
        {
          "output_type": "display_data",
          "data": {
            "image/png": "[encoded data removed]",
            "text/plain": [
              "<Figure size 1440x720 with 1 Axes>"
            ]
          },
          "metadata": {
            "tags": [],
            "needs_background": "light"
          }
        }
      ]
    },
    {
      "cell_type": "code",
      "metadata": {
        "id": "isDaDzJuVwFX"
      },
      "source": [
        "# TODO: Neutralizar y/o ecualizar"
      ],
      "execution_count": null,
      "outputs": []
    },
    {
      "cell_type": "code",
      "metadata": {
        "id": "-pAnrfsdZ_bi",
        "colab": {
          "base_uri": "https://localhost:8080/"
        },
        "outputId": "84a5cad8-7ebf-4977-dab2-53db6f5f637f"
      },
      "source": [
        "gdirection @ wordvectors['bailarina']"
      ],
      "execution_count": 108,
      "outputs": [
        {
          "output_type": "execute_result",
          "data": {
            "text/plain": [
              "0.096854694"
            ]
          },
          "metadata": {
            "tags": []
          },
          "execution_count": 108
        }
      ]
    },
    {
      "cell_type": "code",
      "metadata": {
        "id": "t6nFuBbeClpW"
      },
      "source": [
        "# TODO: determiniar la dirección del género a partir de la resta de pares y aplicadno pca/svd. Pregunta: si a las restas de pares\n",
        "# les aplicamos pca o svd obtendríamos un vector resultante de, por ejemplo, 2 componentes, es correcta esa dimension del vector resultante\n",
        "# para realizar operaciones??\n"
      ],
      "execution_count": 123,
      "outputs": []
    },
    {
      "cell_type": "markdown",
      "metadata": {
        "id": "ImF6mD_7CBOm"
      },
      "source": [
        "## Neutralizar\n",
        "After obtaining the bias direction b, we’ll remove the bias components from all gender-neutral words like receptionist and surgeon by subtracting the embedding’s projection onto the bias axis b (using the dot product of e & b). ![neutralize.png](data:image/png;base64,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)\n",
        "\n",
        "\n",
        "Fuente: https://hackernoon.com/how-to-remove-gender-bias-in-machine-learning-models-nlp-and-word-embeddings-u0533ugl\n",
        "\n",
        "\n",
        "\n",
        "Proyectar \"\"\"Projecting the vector v onto direction u.\"\"\"\n",
        "(v @ normalize_u) * normalize_u\n",
        "\n",
        "\n",
        "extraer proyeccion\n",
        "\"\"\"Rejecting the vector v onto direction u.\"\"\"\n",
        "   v - project_vector(v, u)"
      ]
    },
    {
      "cell_type": "code",
      "metadata": {
        "colab": {
          "base_uri": "https://localhost:8080/"
        },
        "id": "2GpI4M5HGn6k",
        "outputId": "fee29127-79b6-41c8-b6aa-9726dac83a1e"
      },
      "source": [
        "#Neutralizamos la palabra 'albañil' y obtenemos la similaridad coseno\n",
        "albañil_debiased = wordvectors['albañil'] - (wordvectors['albañil'] @ gdirection)*gdirection\n",
        "albañil_debiased @ gdirection"
      ],
      "execution_count": 163,
      "outputs": [
        {
          "output_type": "execute_result",
          "data": {
            "text/plain": [
              "-1.9845174e-09"
            ]
          },
          "metadata": {
            "tags": []
          },
          "execution_count": 163
        }
      ]
    },
    {
      "cell_type": "code",
      "metadata": {
        "id": "Yu6u2_RsKFPc"
      },
      "source": [
        "#Nautralizamos todas los nombres de profesiones neutros y lo guardamos en un dataframe\n",
        "debiased_projections_df = pd.DataFrame({'projection':[(wordvectors[word] - (wordvectors[word] @ gdirection) * gdirection) @ gdirection\n",
        "                                  for word in profesiones_neutras],\n",
        "                                  'word':profesiones_neutras})\n"
      ],
      "execution_count": 182,
      "outputs": []
    },
    {
      "cell_type": "code",
      "metadata": {
        "colab": {
          "base_uri": "https://localhost:8080/",
          "height": 639
        },
        "id": "BDoJp67BKWiF",
        "outputId": "dd405832-ff33-4b4f-cb2d-630ddbf183d1"
      },
      "source": [
        "#Graficamos\n",
        "f, ax = plt.subplots(1, figsize=(20, 10))\n",
        "\n",
        "sns.barplot(x='projection', y='word', data=debiased_projections_df)\n",
        "\n",
        "plt.xticks(np.arange(-0.1, 0.1, step=0.01))\n",
        "\n",
        "plt.title('← {} {} {} →'.format('él',\n",
        "                                ' ' * 20,\n",
        "                                'ella'))\n",
        "\n",
        "plt.xlabel('Direction Projection')\n",
        "plt.ylabel('Words')\n"
      ],
      "execution_count": 183,
      "outputs": [
        {
          "output_type": "execute_result",
          "data": {
            "text/plain": [
              "Text(0,0.5,'Words')"
            ]
          },
          "metadata": {
            "tags": []
          },
          "execution_count": 183
        },
        {
          "output_type": "display_data",
          "data": {
            "image/png": "[encoded data removed]",
            "text/plain": [
              "<Figure size 1440x720 with 1 Axes>"
            ]
          },
          "metadata": {
            "tags": [],
            "needs_background": "light"
          }
        }
      ]
    },
    {
      "cell_type": "code",
      "metadata": {
        "id": "7y7vSprWJeMt"
      },
      "source": [
        ""
      ],
      "execution_count": null,
      "outputs": []
    }
  ]
}